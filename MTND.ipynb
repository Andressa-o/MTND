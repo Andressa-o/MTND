{
 "cells": [
  {
   "cell_type": "markdown",
   "id": "629e3f6a",
   "metadata": {},
   "source": [
    "# Maquina de Turing Não Determinística"
   ]
  },
  {
   "cell_type": "markdown",
   "id": "3ddc1e00",
   "metadata": {},
   "source": [
    "## Introdução"
   ]
  },
  {
   "cell_type": "markdown",
   "id": "13f0aed2",
   "metadata": {},
   "source": [
    "É um dispositivo imaginário que formou a estrutura\n",
    "para fundamentar a ciência da computação\n",
    "moderna.\n",
    "Seu inventor, o matemático Alan Mathison Turing,\n",
    "mostrou que a computação das operações de leitura,\n",
    "escrita e exclusão de símbolos binários poderiam ser\n",
    "satisfeitas por uma máquina que continha uma fita\n",
    "de comprimento ilimitado, com quadrados de\n",
    "tamanho definido sobre ela e um dispositivo com um\n",
    "número finito de estados, que realizava as operações\n",
    "na fita.\n",
    "Em 1936 foi formalizado o termo algoritmo: um\n",
    "conjunto finito de instruções simples e precisas, que\n",
    "são descritas com um número finito de símbolos. "
   ]
  },
  {
   "cell_type": "markdown",
   "id": "a65ad676",
   "metadata": {},
   "source": [
    "O conceito de máquina de Turing é semelhante ao de uma fórmula ou equação. Assim, há uma\n",
    "infinidade de possíveis máquinas de Turing, cada uma correspondendo a um método definido ou\n",
    "algoritmo. Turing propôs que cada algoritmo, formalizado como um conjunto finito de instruções bem\n",
    "definidas, pudesse ser interpretado e executado por um processo mecânico."
   ]
  },
  {
   "cell_type": "markdown",
   "id": "6c6bdb54",
   "metadata": {},
   "source": [
    "## Projeto e Implementação do Algoritmo"
   ]
  },
  {
   "cell_type": "markdown",
   "id": "f76f6f44",
   "metadata": {},
   "source": [
    "Implementado em Python, o algorítimo foi feito para simular uma maquina de Turing não determinística (MTND) de acordo com os requisitos informados na disciplina de Teoria da Computação. A entrada\n",
    "consiste da especificação de uma MTND e de um conjunto de palavras. A saída consiste de uma\n",
    "lista indicando ‘S’ caso a MTND reconheça a palavra em questão e ‘N’ caso contrário. "
   ]
  },
  {
   "cell_type": "markdown",
   "id": "880649d1",
   "metadata": {},
   "source": [
    "As primeiras entradas são os estados, símbolos, símbolos da pilha do MTND que serão armazenados como uma lista, bem como o simbolo limitador de fita a esquerda, simbolo de branco e número de transições."
   ]
  },
  {
   "cell_type": "code",
   "execution_count": null,
   "id": "678578f8",
   "metadata": {},
   "outputs": [],
   "source": [
    "# lista de estados\n",
    "estados = input().split()\n",
    "\n",
    "# alfabeto de entrada\n",
    "alfabeto_entrada = input().split()\n",
    "\n",
    "# alfabeto da fita\n",
    "alfabeto_fita = input().split()\n",
    "\n",
    "# limita a fita a esquerda\n",
    "limite = input()\n",
    "\n",
    "# simbolo de branco da fita\n",
    "simbolo_branco = input()\n",
    "\n",
    "# numero total de transicoes\n",
    "n = int(input())\n",
    "t = dict()  # armazena as transicoes"
   ]
  },
  {
   "cell_type": "code",
   "execution_count": null,
   "id": "ec673277",
   "metadata": {},
   "outputs": [],
   "source": [
    "# estado inicial\n",
    "estado_inicial = input()\n",
    "\n",
    "# lista de estados finais\n",
    "estados_finais = input().split()\n",
    "\n",
    "# lista de palavras a serem testadas\n",
    "palavras = input().split()"
   ]
  },
  {
   "cell_type": "markdown",
   "id": "536d3d13",
   "metadata": {},
   "source": [
    "Assim foi criado uma lista de palavras para serem testadas"
   ]
  },
  {
   "cell_type": "code",
   "execution_count": null,
   "id": "9ec2d32c",
   "metadata": {},
   "outputs": [],
   "source": [
    "# quintuplas ( estado origem, caracater a ser lido, estado destino, simbolo a ser escrito, direcao [E, D] )\n",
    "for i in range(n):\n",
    "\tq = input().split() # quintupla\n",
    "\tk = (q[0],q[1]) \t# chave\n",
    "\tif k not in t:\n",
    "\t\tt[k] = []\n",
    "\tt[k].append([q[2], q[3], q[4]])\n",
    "palavras = input().split()\n",
    "\n",
    "for palavra in palavras:\n",
    " \n",
    "    strg = list((limite + palavra))\n",
    "    strg.append(simbolo_branco)\n",
    "..."
   ]
  },
  {
   "cell_type": "markdown",
   "id": "6ddb59b1",
   "metadata": {},
   "source": [
    "Dentro da listad e palavras a serem testadas foram colocados os métodos para garantir o funcionamento do algorítimo como requisitado."
   ]
  },
  {
   "cell_type": "code",
   "execution_count": null,
   "id": "45a807d5",
   "metadata": {},
   "outputs": [],
   "source": [
    "# contador te tempo de execução\n",
    "    start_time = time.perf_counter()\n",
    "    \n",
    "# Possibilidades de caminho para garantir o nao determinismo\n",
    "    c = [(estado_inicial, 1, strg)] \n",
    "\n",
    "    # variavel que verifica o fim da execucao (MT parada)\n",
    "    s = True \n",
    "    aceita = False\n",
    "    while s:\n",
    "\n",
    "        # desempilhar pilha de possibilidades\n",
    "        m = c.pop()\n",
    "        est_atual = m[0] # estado atual da MT\n",
    "        posicao = m[1]   # posicao na fita\n",
    "        string = m[2]    # fita\n",
    "        \n",
    "        # aceita?: 1 - esta em estado final e \n",
    "        #\t\t   2 - nao possui mais caminhos para percorrer?\n",
    "        if est_atual in estados_finais and (est_atual, string[posicao]) not in t:\n",
    "            aceita = True\n",
    "            break\n",
    "            \n",
    "        # verifica quais as possibilidades de caminho para empilhar\n",
    "        if (est_atual, string[posicao]) in t:\n",
    "\n",
    "            # pecorre as possibilidades\n",
    "            for ps in t[(est_atual, string[posicao])]:\n",
    "                aux = []\n",
    "                for str_ in string:\n",
    "                    aux.append(str_)\n",
    "                    \n",
    "                # realiza escrita na posicao atual da string\n",
    "                # de acordo com a transicao\n",
    "                if aux[posicao] == simbolo_branco:\n",
    "                    aux.append(simbolo_branco)\n",
    "                    string.append(simbolo_branco)\n",
    "\n",
    "                aux[posicao] = ps[1]\n",
    "                # posicao na fita para a direita\n",
    "                if ps[2] == 'D':\n",
    "                    # possibilidade empilhada\n",
    "                    c.append((ps[0], (posicao + 1), aux))\n",
    "\n",
    "                # posicao na fita para a esquerda\n",
    "                elif ps[2] == 'E': \n",
    "                    # possibilidade empilhada\n",
    "                    c.append((ps[0], (posicao - 1), aux))\n",
    "\n",
    "                # fita imovel\n",
    "                elif ps[2] == 'I':\n",
    "                    # possibilidade empilhada para cabecote imovel\n",
    "                    c.append((ps[0], posicao, aux))\n",
    "\n",
    "        # caso MT parou sem reconhecer\n",
    "        if (est_atual, string[posicao]) not in t and len(c) == 0:\n",
    "        # if len(c) == 0:\n",
    "            s = False\n",
    "            break "
   ]
  },
  {
   "cell_type": "markdown",
   "id": "657bbe16",
   "metadata": {},
   "source": [
    "Após toda a análise do algorítimo ele executa os comandos de saida do resultado se a palavra foi reconhecida ou não"
   ]
  },
  {
   "cell_type": "code",
   "execution_count": null,
   "id": "d0972c92",
   "metadata": {},
   "outputs": [],
   "source": [
    "if aceita:\n",
    "        print(\"S\")\n",
    "    else:\n",
    "        print(\"N\")\n",
    "    print(\"tempo de execução por palavra: %s ms\" % ((time.perf_counter() - start_time)*1000.0))"
   ]
  },
  {
   "cell_type": "markdown",
   "id": "330cec6d",
   "metadata": {},
   "source": [
    "Para questões de analise do tempo de resposta do programa foi adicionado um contador que marca o tempo que cada palavra foi lida. O resultado exibido após cada palavra é expressado em milisegundos."
   ]
  },
  {
   "cell_type": "code",
   "execution_count": null,
   "id": "264e2938",
   "metadata": {},
   "outputs": [],
   "source": [
    "# contador te tempo de execução\n",
    "    start_time = time.perf_counter()\n",
    "...\n",
    "print(\"tempo de execução por palavra: %s ms\" % ((time.perf_counter() - start_time)*1000.0))"
   ]
  },
  {
   "cell_type": "markdown",
   "id": "030e218f",
   "metadata": {},
   "source": [
    "## Resultados e Conclusões"
   ]
  },
  {
   "attachments": {
    "image.png": {
     "image/png": "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"
    }
   },
   "cell_type": "markdown",
   "id": "5a58eb01",
   "metadata": {},
   "source": [
    "![image.png](attachment:image.png)"
   ]
  },
  {
   "cell_type": "markdown",
   "id": "83dfbacd",
   "metadata": {},
   "source": [
    "Ao observar o gráfico é possível perceber que o tempo de processamento aumenta exponêncialmente de acordo com o tamalho da palavra.\n",
    "Possíveis discrepâncias podem ser responsabilizadas ao fato do processamento ocorrer em maquina não otimizada e que trabalha com outras funções ao mesmo tempo; a quantidade de transições e passos que a maquina realiza para reconhecer ou não a palavra também influencia em seu tempo de processamento. O gráfico foi gerado pela ferramenta google planílhas utilizando-se somente das palavras reconhecidas pelo algorítimo.\n"
   ]
  },
  {
   "cell_type": "markdown",
   "id": "67db19a0",
   "metadata": {},
   "source": [
    "Palavra utilizada no teste para geração do gráfico:"
   ]
  },
  {
   "cell_type": "markdown",
   "id": "95412509",
   "metadata": {},
   "source": [
    "*(palavra vazia) a ab abb aabb aaabb aaabbb aaaabbbb ababababa abababababa aaaaaaabbbbbbbb aaaaaaaaaabbbbbbbbbb aaaaabaaaaaaaabbbbbbbbbbbbb aaaaaaaaaaaaaaabbbbbbbbbbbbbbb aaaaaaaaaaaaaaaaaaabbbbbbbbbbbbbbbbbbb aaaaaaaaaaaaaaaaaaaabbbbbbbbbbbbbbbbbbbb aaaaaaaaaaaaaaaaaaaaabbbbbbbbbbbbbbbbbbbbbaaaaaaaaaaaaaaaaaaaaaabbbbbbbbbbbbbbbbbbbbbb aaaaaaaaaaaaaaaaaaaaaaabbbbbbbbbbbbbbbbbbbbbbb aaaaaaaaaaaaaaaaaaaaaaaabbbbbbbbbbbbbbbbbbbbbbbb aaaaaaaaaaaaaaaaaaaaaaaaabbbbbbbbbbbbbbbbbbbbbbbbb aaaaaaaaaaaaaaaaaaaaaaaaaabbbbbbbbbbbbbbbbbbbbbbbbbb aaaaaaaaaaaaaaaaaaaaaaaaaaabbbbbbbbbbbbbbbbbbbbbbbbbbb aaaaaaaaaaaaaaaaaaaaaaaaaaaabbbbbbbbbbbbbbbbbbbbbbbbbbbb aaaaaaaaaaaaaaaaaaaaaaaaaaaabbbbbbbbbbbbbbbbbbbbbbbbbbbbbaaaaaaaaaaaaaaaaaaaaaaaaaaaaaabbbbbbbbbbbbbbbbbbbbbbbbbbbbbb"
   ]
  },
  
